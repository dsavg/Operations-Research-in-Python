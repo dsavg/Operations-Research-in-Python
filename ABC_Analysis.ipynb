{
 "cells": [
  {
   "cell_type": "code",
   "execution_count": 7,
   "metadata": {},
   "outputs": [],
   "source": [
    "import pandas as pd\n",
    "import pandasql as pdsql\n",
    "import matplotlib.pyplot as plt\n",
    "import seaborn as sns\n",
    "import numpy as np\n",
    "\n",
    "pysql = lambda q: pdsql.sqldf(q, globals())"
   ]
  },
  {
   "cell_type": "code",
   "execution_count": 3,
   "metadata": {},
   "outputs": [],
   "source": [
    "data = pd.read_csv('./SalesKaggle3.csv')"
   ]
  },
  {
   "cell_type": "markdown",
   "metadata": {},
   "source": [
    "## ABC Analysis"
   ]
  },
  {
   "cell_type": "code",
   "execution_count": 26,
   "metadata": {},
   "outputs": [],
   "source": [
    "def ABC_segmentation(perc):\n",
    "    if perc > 0 and perc < 0.6:\n",
    "        return 'A'\n",
    "    elif perc >= 0.6 and perc < 0.85:\n",
    "        return 'B'\n",
    "    elif perc >= 0.85:\n",
    "        return 'C'"
   ]
  },
  {
   "cell_type": "code",
   "execution_count": 27,
   "metadata": {},
   "outputs": [],
   "source": [
    "# take a subset of the data, we need to use the price and the quantity of each item\n",
    "data_sub = data[['SKU_number','PriceReg','ItemCount','File_Type']][(data['File_Type'] == 'Historical')]\n",
    "# create the column of the cumulative cost per SKU\n",
    "data_sub['CumCost'] = data_sub['PriceReg'] * data_sub['ItemCount']\n",
    "# order by cumulative cost\n",
    "data_sub = data_sub.sort_values(by=['CumCost'], ascending=False)\n",
    "# create the column of the running CumCost of the cumulative cost per SKU\n",
    "data_sub['RunCumCost'] = data_sub['CumCost'].cumsum()\n",
    "# create the column of the total sum\n",
    "data_sub['TotSum'] = data_sub['CumCost'].sum()\n",
    "# create the column of the running percentage\n",
    "data_sub['RunPerc'] =  data_sub['RunCumCost']/data_sub['TotSum']\n",
    "# create the column of the class\n",
    "data_sub['Class'] = data_sub['RunPerc'].apply(ABC_segmentation)"
   ]
  },
  {
   "cell_type": "code",
   "execution_count": 36,
   "metadata": {},
   "outputs": [
    {
     "data": {
      "text/html": [
       "<div>\n",
       "<style scoped>\n",
       "    .dataframe tbody tr th:only-of-type {\n",
       "        vertical-align: middle;\n",
       "    }\n",
       "\n",
       "    .dataframe tbody tr th {\n",
       "        vertical-align: top;\n",
       "    }\n",
       "\n",
       "    .dataframe thead th {\n",
       "        text-align: right;\n",
       "    }\n",
       "</style>\n",
       "<table border=\"1\" class=\"dataframe\">\n",
       "  <thead>\n",
       "    <tr style=\"text-align: right;\">\n",
       "      <th></th>\n",
       "      <th>SKU_number</th>\n",
       "      <th>PriceReg</th>\n",
       "      <th>ItemCount</th>\n",
       "      <th>File_Type</th>\n",
       "      <th>CumCost</th>\n",
       "      <th>RunCumCost</th>\n",
       "      <th>TotSum</th>\n",
       "      <th>RunPerc</th>\n",
       "      <th>Class</th>\n",
       "    </tr>\n",
       "  </thead>\n",
       "  <tbody>\n",
       "    <tr>\n",
       "      <th>685</th>\n",
       "      <td>145889</td>\n",
       "      <td>244.6</td>\n",
       "      <td>851</td>\n",
       "      <td>Historical</td>\n",
       "      <td>208154.6</td>\n",
       "      <td>208154.6</td>\n",
       "      <td>3.426320e+08</td>\n",
       "      <td>0.000608</td>\n",
       "      <td>A</td>\n",
       "    </tr>\n",
       "    <tr>\n",
       "      <th>601</th>\n",
       "      <td>435034</td>\n",
       "      <td>281.8</td>\n",
       "      <td>616</td>\n",
       "      <td>Historical</td>\n",
       "      <td>173588.8</td>\n",
       "      <td>381743.4</td>\n",
       "      <td>3.426320e+08</td>\n",
       "      <td>0.001114</td>\n",
       "      <td>A</td>\n",
       "    </tr>\n",
       "    <tr>\n",
       "      <th>75056</th>\n",
       "      <td>538479</td>\n",
       "      <td>2645.3</td>\n",
       "      <td>49</td>\n",
       "      <td>Historical</td>\n",
       "      <td>129619.7</td>\n",
       "      <td>511363.1</td>\n",
       "      <td>3.426320e+08</td>\n",
       "      <td>0.001492</td>\n",
       "      <td>A</td>\n",
       "    </tr>\n",
       "    <tr>\n",
       "      <th>5752</th>\n",
       "      <td>212633</td>\n",
       "      <td>235.6</td>\n",
       "      <td>521</td>\n",
       "      <td>Historical</td>\n",
       "      <td>122747.6</td>\n",
       "      <td>634110.7</td>\n",
       "      <td>3.426320e+08</td>\n",
       "      <td>0.001851</td>\n",
       "      <td>A</td>\n",
       "    </tr>\n",
       "    <tr>\n",
       "      <th>3758</th>\n",
       "      <td>212480</td>\n",
       "      <td>208.8</td>\n",
       "      <td>579</td>\n",
       "      <td>Historical</td>\n",
       "      <td>120895.2</td>\n",
       "      <td>755005.9</td>\n",
       "      <td>3.426320e+08</td>\n",
       "      <td>0.002204</td>\n",
       "      <td>A</td>\n",
       "    </tr>\n",
       "  </tbody>\n",
       "</table>\n",
       "</div>"
      ],
      "text/plain": [
       "       SKU_number  PriceReg  ItemCount   File_Type   CumCost  RunCumCost  \\\n",
       "685        145889     244.6        851  Historical  208154.6    208154.6   \n",
       "601        435034     281.8        616  Historical  173588.8    381743.4   \n",
       "75056      538479    2645.3         49  Historical  129619.7    511363.1   \n",
       "5752       212633     235.6        521  Historical  122747.6    634110.7   \n",
       "3758       212480     208.8        579  Historical  120895.2    755005.9   \n",
       "\n",
       "             TotSum   RunPerc Class  \n",
       "685    3.426320e+08  0.000608     A  \n",
       "601    3.426320e+08  0.001114     A  \n",
       "75056  3.426320e+08  0.001492     A  \n",
       "5752   3.426320e+08  0.001851     A  \n",
       "3758   3.426320e+08  0.002204     A  "
      ]
     },
     "execution_count": 36,
     "metadata": {},
     "output_type": "execute_result"
    }
   ],
   "source": [
    "data_sub.head()"
   ]
  },
  {
   "cell_type": "markdown",
   "metadata": {},
   "source": [
    "## Results"
   ]
  },
  {
   "cell_type": "code",
   "execution_count": 28,
   "metadata": {},
   "outputs": [
    {
     "data": {
      "text/plain": [
       "C    37413\n",
       "B    22288\n",
       "A    16295\n",
       "Name: Class, dtype: int64"
      ]
     },
     "execution_count": 28,
     "metadata": {},
     "output_type": "execute_result"
    }
   ],
   "source": [
    "# total SKUs for each class\n",
    "data_sub.Class.value_counts()"
   ]
  },
  {
   "cell_type": "code",
   "execution_count": 41,
   "metadata": {},
   "outputs": [
    {
     "name": "stdout",
     "output_type": "stream",
     "text": [
      "Cost of Class A 205577451.4\n",
      "Cost of Class B 85658215.25999999\n",
      "Cost of Class C 51396361.129999995\n"
     ]
    }
   ],
   "source": [
    "# total cost per class\n",
    "print 'Cost of Class A', data_sub[data_sub.Class == 'A']['CumCost'].sum() \n",
    "print 'Cost of Class B', data_sub[data_sub.Class == 'B']['CumCost'].sum() \n",
    "print 'Cost of Class C', data_sub[data_sub.Class == 'C']['CumCost'].sum() "
   ]
  },
  {
   "cell_type": "code",
   "execution_count": 42,
   "metadata": {},
   "outputs": [
    {
     "name": "stdout",
     "output_type": "stream",
     "text": [
      "Percent of Cost of Class A 0.5999948479013728\n",
      "Percent of Cost of Class B 0.2500006079773141\n",
      "Percent of Cost of Class C 0.15000454412131298\n"
     ]
    }
   ],
   "source": [
    "# percent of total cost per class\n",
    "print 'Percent of Cost of Class A', data_sub[data_sub.Class == 'A']['CumCost'].sum()/data_sub['CumCost'].sum()\n",
    "print 'Percent of Cost of Class B', data_sub[data_sub.Class == 'B']['CumCost'].sum()/data_sub['CumCost'].sum()\n",
    "print 'Percent of Cost of Class C', data_sub[data_sub.Class == 'C']['CumCost'].sum()/data_sub['CumCost'].sum() "
   ]
  },
  {
   "cell_type": "markdown",
   "metadata": {},
   "source": [
    "## Summarize Results"
   ]
  },
  {
   "cell_type": "code",
   "execution_count": 39,
   "metadata": {},
   "outputs": [
    {
     "data": {
      "image/png": "[encoded data removed]",
      "text/plain": [
       "<Figure size 432x288 with 1 Axes>"
      ]
     },
     "metadata": {},
     "output_type": "display_data"
    }
   ],
   "source": [
    "performance = data_sub['CumCost'].tolist()\n",
    "y_pos = np.arange(len(performance))\n",
    "\n",
    "plt.bar(y_pos, performance)\n",
    "plt.ylabel('Cumulative Cost')\n",
    "plt.xlabel('SKU')\n",
    "plt.title('ABC Analysis')\n",
    "plt.grid(True)\n",
    "plt.ylim((0,40000))\n",
    "plt.show()"
   ]
  },
  {
   "cell_type": "code",
   "execution_count": 34,
   "metadata": {},
   "outputs": [
    {
     "data": {
      "image/png": "[encoded data removed]",
      "text/plain": [
       "<Figure size 432x288 with 1 Axes>"
      ]
     },
     "metadata": {},
     "output_type": "display_data"
    }
   ],
   "source": [
    "performance = data_sub['RunPerc'].tolist()\n",
    "y_pos = np.arange(len(performance))\n",
    "\n",
    "plt.plot(y_pos, performance)\n",
    "plt.ylabel('Running Total Percentage')\n",
    "plt.title('ABC Analysis')\n",
    "plt.grid(True)\n",
    "plt.show()"
   ]
  },
  {
   "cell_type": "markdown",
   "metadata": {},
   "source": [
    "Summary Table"
   ]
  },
  {
   "cell_type": "markdown",
   "metadata": {},
   "source": [
    "| Class | Total SKUs | Total Cost ($) | Cost Percentage |\n",
    "|----|-------|------|-------|\n",
    "| A | 16295 | 205577451 | 60% |\n",
    "| B | 22288 | 85658215 | 25% |\n",
    "| C | 37413 | 51396361 | 15% |\n",
    "| Total | 75996 | 342632027 | 100% |"
   ]
  }
 ],
 "metadata": {
  "kernelspec": {
   "display_name": "Python 2",
   "language": "python",
   "name": "python2"
  },
  "language_info": {
   "codemirror_mode": {
    "name": "ipython",
    "version": 2
   },
   "file_extension": ".py",
   "mimetype": "text/x-python",
   "name": "python",
   "nbconvert_exporter": "python",
   "pygments_lexer": "ipython2",
   "version": "2.7.15"
  }
 },
 "nbformat": 4,
 "nbformat_minor": 2
}
