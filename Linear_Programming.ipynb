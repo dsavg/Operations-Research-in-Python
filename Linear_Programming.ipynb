{
 "cells": [
  {
   "cell_type": "markdown",
   "metadata": {},
   "source": [
    "# Linear Programming in Python"
   ]
  },
  {
   "cell_type": "markdown",
   "metadata": {},
   "source": [
    "### What is Linear Programming?"
   ]
  },
  {
   "cell_type": "markdown",
   "metadata": {},
   "source": [
    "Linear Programming is the simplest mathematical optimization method. The goal is to achieve the best outcome, and by that we frequently mean either maximize the profit or minimize the cost. For a mathematical program to be linear, we need:\n",
    "-\tAn **Objective Function** that is a linear expression\n",
    "-\t**Decision Variables** that are real variables\n",
    "-\t**Constrains** that are linear expressions\n",
    "\n",
    "By linearity, we mean any expression of the following form,\n",
    "\n",
    "$α_1χ_1 + α_2χ_2 + α_3χ_3 + α_4χ_4 + …α_nχ_n$ {=, >=, <=} $b$\n",
    "\n",
    "where $χ_i$ is the variable we want to calculate."
   ]
  },
  {
   "cell_type": "markdown",
   "metadata": {},
   "source": [
    "In this notebook there going to be demonstrted two examples of linear programming. The first example is a simple example with 2 variables, that can be easily solved with graphical methods as well, and the second one, is a more complex example, with no graphical reprsentation. "
   ]
  },
  {
   "cell_type": "markdown",
   "metadata": {},
   "source": [
    "## Maximization Example"
   ]
  },
  {
   "cell_type": "markdown",
   "metadata": {
    "collapsed": true
   },
   "source": [
    "A company that produces amphoras and small sculptures uses pylon as raw material. The company wants to plan those to resources with goal to maximize its revenue. The availability of man power is 40 hour per day and the availability of pylon is 120kg per day. The selling price for an amphora is \\$40 while for a sculpture is \\$50."
   ]
  },
  {
   "cell_type": "markdown",
   "metadata": {},
   "source": [
    "| Item        | Labor (hours/ item)| Pylon (kg/item) |\n",
    "| ------------- |---------------| -------|\n",
    "| Amphoras    | 1 | 4 |\n",
    "| Sculptures      | 2      |  3 |"
   ]
  },
  {
   "cell_type": "markdown",
   "metadata": {
    "collapsed": true
   },
   "source": [
    "<center>**Variables**:</center>\n",
    "\n",
    "<center>$x_1$ : number of sculptures</center>\n",
    "\n",
    "<center>$x_2$ : number of amphoras</center>\n",
    "\n",
    "<center>**Objective Function**:</center>\n",
    "\n",
    "<center>$max(z) = 40x_1 + 50x_2$</center>\n",
    "\n",
    "<center>**Constrains**:</center>\n",
    "\n",
    "<center>$x_1 + 2x_2 <= 40$</center>\n",
    "\n",
    "<center>$4x_1 + 3x_2 <= 120$</center>\n",
    "\n",
    "<center>$x_1, x_2 >= 0$</center>"
   ]
  },
  {
   "cell_type": "markdown",
   "metadata": {},
   "source": [
    "### 1. Graphical Solution"
   ]
  },
  {
   "cell_type": "code",
   "execution_count": 1,
   "metadata": {
    "collapsed": true
   },
   "outputs": [],
   "source": [
    "from pulp import *\n",
    "import matplotlib.pyplot as plt\n",
    "import numpy as np\n",
    "\n",
    "plt.style.use('seaborn-whitegrid')\n",
    "%matplotlib inline"
   ]
  },
  {
   "cell_type": "markdown",
   "metadata": {},
   "source": [
    "First we will need to solve the linear equation to find the intersection of the two lines."
   ]
  },
  {
   "cell_type": "code",
   "execution_count": 2,
   "metadata": {
    "scrolled": true
   },
   "outputs": [
    {
     "name": "stdout",
     "output_type": "stream",
     "text": [
      "('The coordinates are', (8.0, 24.0))\n"
     ]
    }
   ],
   "source": [
    "a = np.array([[2,1], [3,4]])\n",
    "b = np.array([40,120])\n",
    "x = np.linalg.solve(a, b)\n",
    "print ('The coordinates are', (round(x[0]), round(x[1])))"
   ]
  },
  {
   "cell_type": "markdown",
   "metadata": {},
   "source": [
    "Lets plot our lines on to the Cartesian coordinate system."
   ]
  },
  {
   "cell_type": "code",
   "execution_count": 3,
   "metadata": {},
   "outputs": [
    {
     "data": {
      "image/png": "[encoded data removed]",
      "text/plain": [
       "<matplotlib.figure.Figure at 0x105588dd0>"
      ]
     },
     "metadata": {},
     "output_type": "display_data"
    }
   ],
   "source": [
    "# Set a range for x-axis values\n",
    "x = np.arange(0,50)\n",
    "\n",
    "# The lines to plot\n",
    "y1 = -2*x + 40\n",
    "y2 = -(3.0/4)*x + 30\n",
    "y3 = -(50.0/40)*x + 34\n",
    "y4 = -(50.0/40)*x + 40\n",
    "y5 = -(50.0/40)*x + 44\n",
    "\n",
    "# Set y-limit, making neg y-values not show in plot\n",
    "plt.ylim(0, 60)\n",
    "\n",
    "# Plotting of lines\n",
    "plt.plot(x, y1, \n",
    "         x, y2)\n",
    "plt.plot(x, y3, 'g')\n",
    "plt.plot(x, y4, 'g', alpha=0.2)\n",
    "plt.plot(x, y5, 'g', alpha=0.2)\n",
    "\n",
    "# Adding annotations\n",
    "plt.text(0, 42, r'$x_1 + 2x_2 = 40$')\n",
    "plt.text(40, 2, r'$4x_1 + 3x_2 <= 120$')\n",
    "plt.text(8, 26, r'(8,24)')\n",
    "plt.text(25, 4, r'40x1 + 50x2 = 1360')\n",
    "\n",
    "# Creating the shaded area\n",
    "x1 = [0,0,8,20]\n",
    "x2 = [0,30,24,0]\n",
    "plt.fill(x1, x2, color = 'grey', alpha=0.5)\n",
    "plt.xlabel('x2')\n",
    "plt.ylabel('x1')\n",
    "plt.title('Linear Programming Problem Graph Representation')\n",
    "plt.show()"
   ]
  },
  {
   "cell_type": "markdown",
   "metadata": {},
   "source": [
    "The shaded area is the area of the possible solutions. In onder to figure out which variables maximize the objective function, and what is the the maximum profit that we can achieve, we are going to give different values for the profit and observe where it touchs with the shaded area. In the above plot, it is easily observed that the variables that maximize the objective function are,\n",
    "\n",
    "$x_1$ = 24\n",
    "\n",
    "$x_2$ = 8\n",
    "\n",
    "and the revenue is $1360"
   ]
  },
  {
   "cell_type": "markdown",
   "metadata": {},
   "source": [
    "### 2. Linear Programming Using pulp library"
   ]
  },
  {
   "cell_type": "code",
   "execution_count": 4,
   "metadata": {
    "collapsed": true
   },
   "outputs": [],
   "source": [
    "# Create the 'prob' variable that will host the problem's data\n",
    "prob = LpProblem(\"Sculp Company\",LpMaximize)"
   ]
  },
  {
   "cell_type": "markdown",
   "metadata": {},
   "source": [
    "#### A. Creating the Variables"
   ]
  },
  {
   "cell_type": "code",
   "execution_count": 5,
   "metadata": {
    "collapsed": true
   },
   "outputs": [],
   "source": [
    "# the way to create the variables x1 and x2 is by using the LpVariable class\n",
    "# x1=LpVariable(\"name\", lower_bound, upper_bound, LpInteger/LpContinious)\n",
    "\n",
    "# The 2 variables, number of Scuptures and number of Amphoras, \n",
    "# are created with a lower limit of zero\n",
    "x1=LpVariable(\"sculptures\",0,None,LpInteger)\n",
    "x2=LpVariable(\"amphoras\",0,None,LpInteger)"
   ]
  },
  {
   "cell_type": "markdown",
   "metadata": {},
   "source": [
    "#### B. Objective Function"
   ]
  },
  {
   "cell_type": "code",
   "execution_count": 7,
   "metadata": {
    "collapsed": true
   },
   "outputs": [],
   "source": [
    "# The objective function is added to 'prob'\n",
    "prob += 40*x1 + 50*x2, \"Total Revenue\""
   ]
  },
  {
   "cell_type": "markdown",
   "metadata": {},
   "source": [
    "#### C. Constrains"
   ]
  },
  {
   "cell_type": "code",
   "execution_count": 8,
   "metadata": {
    "collapsed": true
   },
   "outputs": [],
   "source": [
    "# The two constraints are added to 'prob'\n",
    "prob += x1 + 2*x2 <= 40, \"Labor\"\n",
    "prob += 4*x1 + 3*x2 <= 120, \"Pylon\""
   ]
  },
  {
   "cell_type": "code",
   "execution_count": 9,
   "metadata": {},
   "outputs": [
    {
     "data": {
      "text/plain": [
       "Sculp Company:\n",
       "MAXIMIZE\n",
       "50*amphoras + 40*sculptures + 0\n",
       "SUBJECT TO\n",
       "Labor: 2 amphoras + sculptures <= 40\n",
       "\n",
       "Pylon: 3 amphoras + 4 sculptures <= 120\n",
       "\n",
       "VARIABLES\n",
       "0 <= amphoras Integer\n",
       "0 <= sculptures Integer"
      ]
     },
     "execution_count": 9,
     "metadata": {},
     "output_type": "execute_result"
    }
   ],
   "source": [
    "prob"
   ]
  },
  {
   "cell_type": "code",
   "execution_count": 10,
   "metadata": {},
   "outputs": [
    {
     "data": {
      "text/plain": [
       "1"
      ]
     },
     "execution_count": 10,
     "metadata": {},
     "output_type": "execute_result"
    }
   ],
   "source": [
    "# The problem is solved using PuLP's choice of Solver\n",
    "prob.solve()"
   ]
  },
  {
   "cell_type": "code",
   "execution_count": 11,
   "metadata": {},
   "outputs": [
    {
     "name": "stdout",
     "output_type": "stream",
     "text": [
      "('Status:', 'Optimal')\n"
     ]
    }
   ],
   "source": [
    "# The status of the solution is printed \n",
    "print(\"Status:\", LpStatus[prob.status])"
   ]
  },
  {
   "cell_type": "code",
   "execution_count": 12,
   "metadata": {},
   "outputs": [
    {
     "name": "stdout",
     "output_type": "stream",
     "text": [
      "('amphoras', '=', 8.0)\n",
      "('sculptures', '=', 24.0)\n"
     ]
    }
   ],
   "source": [
    "# Each of the variables is printed with it's resolved optimum value\n",
    "for v in prob.variables():\n",
    "    print(v.name, \"=\", v.varValue)"
   ]
  },
  {
   "cell_type": "code",
   "execution_count": 13,
   "metadata": {},
   "outputs": [
    {
     "name": "stdout",
     "output_type": "stream",
     "text": [
      "('Total Cost of Ingredients per can = ', 1360.0)\n"
     ]
    }
   ],
   "source": [
    "# The optimised objective function value is printed to the screen\n",
    "print(\"Total Cost of Ingredients per can = \", value(prob.objective))"
   ]
  },
  {
   "cell_type": "markdown",
   "metadata": {},
   "source": [
    "## References"
   ]
  },
  {
   "cell_type": "markdown",
   "metadata": {},
   "source": [
    "http://www.kleerekoper.co.uk/2017/01/add-equation-to-seaborn-plot-and.html\n",
    "\n",
    "https://pythonhosted.org/PuLP/CaseStudies/a_blending_problem.html\n",
    "\n",
    "https://medium.com/italiandirectory-publishing/linear-programming-with-python-and-pulp-2413f09a8872\n",
    "\n",
    "https://coral.ie.lehigh.edu/~ted/files/talks/PythonModeling.pdf"
   ]
  }
 ],
 "metadata": {
  "kernelspec": {
   "display_name": "Python 2",
   "language": "python",
   "name": "python2"
  },
  "language_info": {
   "codemirror_mode": {
    "name": "ipython",
    "version": 2
   },
   "file_extension": ".py",
   "mimetype": "text/x-python",
   "name": "python",
   "nbconvert_exporter": "python",
   "pygments_lexer": "ipython2",
   "version": "2.7.13"
  }
 },
 "nbformat": 4,
 "nbformat_minor": 2
}
